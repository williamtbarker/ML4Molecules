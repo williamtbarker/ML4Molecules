{
  "nbformat": 4,
  "nbformat_minor": 0,
  "metadata": {
    "colab": {
      "provenance": [],
      "include_colab_link": true
    },
    "kernelspec": {
      "name": "python3",
      "display_name": "Python 3"
    },
    "language_info": {
      "name": "python"
    }
  },
  "cells": [
    {
      "cell_type": "markdown",
      "metadata": {
        "id": "view-in-github",
        "colab_type": "text"
      },
      "source": [
        "<a href=\"https://colab.research.google.com/github/williamtbarker/ML4Molecules/blob/main/06_Graph_Neural_Networks_complete.ipynb\" target=\"_parent\"><img src=\"https://colab.research.google.com/assets/colab-badge.svg\" alt=\"Open In Colab\"/></a>"
      ]
    },
    {
      "cell_type": "markdown",
      "source": [
        "### Training GNN\n",
        "\n",
        "We will use the same process discussed earlier. But, for featurization we will use graphs and the model will be a message passing neural network.\n",
        "\n",
        "The process of training and validating model is below --\n",
        "\n",
        "1. Clean up dataset\n",
        "2. Featurize the data\n",
        "3. Split the dataset\n",
        "4. Create ``DataLoader`` for the dataset splits\n",
        "5. Create the ML model, define loss function and optimizer\n",
        "6. ``for`` loop for epochs\n",
        "    1. ``for`` loop for training batches\n",
        "        1. Do a forward pass\n",
        "        2. Compute the loss\n",
        "        3. Do backpropogation\n",
        "    2. ``for`` loop for validation batches\n",
        "        1. Do a forward pass\n",
        "        2. Compute the loss\n",
        "    "
      ],
      "metadata": {
        "id": "lOVwv8YkB7Pd"
      }
    },
    {
      "cell_type": "markdown",
      "source": [
        "### Installing the packages"
      ],
      "metadata": {
        "id": "5658_JEJnxfS"
      }
    },
    {
      "cell_type": "code",
      "execution_count": 1,
      "metadata": {
        "id": "HC4Yn8cLAaC9",
        "colab": {
          "base_uri": "https://localhost:8080/"
        },
        "outputId": "7cde89dc-db70-4975-dd4b-848f73782725"
      },
      "outputs": [
        {
          "output_type": "stream",
          "name": "stdout",
          "text": [
            "Collecting dgl\n",
            "  Downloading dgl-1.1.3-cp310-cp310-manylinux1_x86_64.whl (6.5 MB)\n",
            "\u001b[2K     \u001b[90m━━━━━━━━━━━━━━━━━━━━━━━━━━━━━━━━━━━━━━━━\u001b[0m \u001b[32m6.5/6.5 MB\u001b[0m \u001b[31m11.0 MB/s\u001b[0m eta \u001b[36m0:00:00\u001b[0m\n",
            "\u001b[?25hRequirement already satisfied: numpy>=1.14.0 in /usr/local/lib/python3.10/dist-packages (from dgl) (1.23.5)\n",
            "Requirement already satisfied: scipy>=1.1.0 in /usr/local/lib/python3.10/dist-packages (from dgl) (1.11.4)\n",
            "Requirement already satisfied: networkx>=2.1 in /usr/local/lib/python3.10/dist-packages (from dgl) (3.2.1)\n",
            "Requirement already satisfied: requests>=2.19.0 in /usr/local/lib/python3.10/dist-packages (from dgl) (2.31.0)\n",
            "Requirement already satisfied: tqdm in /usr/local/lib/python3.10/dist-packages (from dgl) (4.66.1)\n",
            "Requirement already satisfied: psutil>=5.8.0 in /usr/local/lib/python3.10/dist-packages (from dgl) (5.9.5)\n",
            "Requirement already satisfied: charset-normalizer<4,>=2 in /usr/local/lib/python3.10/dist-packages (from requests>=2.19.0->dgl) (3.3.2)\n",
            "Requirement already satisfied: idna<4,>=2.5 in /usr/local/lib/python3.10/dist-packages (from requests>=2.19.0->dgl) (3.6)\n",
            "Requirement already satisfied: urllib3<3,>=1.21.1 in /usr/local/lib/python3.10/dist-packages (from requests>=2.19.0->dgl) (2.0.7)\n",
            "Requirement already satisfied: certifi>=2017.4.17 in /usr/local/lib/python3.10/dist-packages (from requests>=2.19.0->dgl) (2023.11.17)\n",
            "Installing collected packages: dgl\n",
            "Successfully installed dgl-1.1.3\n",
            "Collecting dgllife\n",
            "  Downloading dgllife-0.3.2-py3-none-any.whl (226 kB)\n",
            "\u001b[2K     \u001b[90m━━━━━━━━━━━━━━━━━━━━━━━━━━━━━━━━━━━━━━━━\u001b[0m \u001b[32m226.1/226.1 kB\u001b[0m \u001b[31m3.7 MB/s\u001b[0m eta \u001b[36m0:00:00\u001b[0m\n",
            "\u001b[?25hRequirement already satisfied: scikit-learn>=0.22.2 in /usr/local/lib/python3.10/dist-packages (from dgllife) (1.2.2)\n",
            "Requirement already satisfied: pandas in /usr/local/lib/python3.10/dist-packages (from dgllife) (1.5.3)\n",
            "Requirement already satisfied: requests>=2.22.0 in /usr/local/lib/python3.10/dist-packages (from dgllife) (2.31.0)\n",
            "Requirement already satisfied: tqdm in /usr/local/lib/python3.10/dist-packages (from dgllife) (4.66.1)\n",
            "Requirement already satisfied: numpy>=1.14.0 in /usr/local/lib/python3.10/dist-packages (from dgllife) (1.23.5)\n",
            "Requirement already satisfied: scipy>=1.1.0 in /usr/local/lib/python3.10/dist-packages (from dgllife) (1.11.4)\n",
            "Requirement already satisfied: networkx>=2.1 in /usr/local/lib/python3.10/dist-packages (from dgllife) (3.2.1)\n",
            "Requirement already satisfied: hyperopt in /usr/local/lib/python3.10/dist-packages (from dgllife) (0.2.7)\n",
            "Requirement already satisfied: joblib in /usr/local/lib/python3.10/dist-packages (from dgllife) (1.3.2)\n",
            "Requirement already satisfied: charset-normalizer<4,>=2 in /usr/local/lib/python3.10/dist-packages (from requests>=2.22.0->dgllife) (3.3.2)\n",
            "Requirement already satisfied: idna<4,>=2.5 in /usr/local/lib/python3.10/dist-packages (from requests>=2.22.0->dgllife) (3.6)\n",
            "Requirement already satisfied: urllib3<3,>=1.21.1 in /usr/local/lib/python3.10/dist-packages (from requests>=2.22.0->dgllife) (2.0.7)\n",
            "Requirement already satisfied: certifi>=2017.4.17 in /usr/local/lib/python3.10/dist-packages (from requests>=2.22.0->dgllife) (2023.11.17)\n",
            "Requirement already satisfied: threadpoolctl>=2.0.0 in /usr/local/lib/python3.10/dist-packages (from scikit-learn>=0.22.2->dgllife) (3.2.0)\n",
            "Requirement already satisfied: six in /usr/local/lib/python3.10/dist-packages (from hyperopt->dgllife) (1.16.0)\n",
            "Requirement already satisfied: future in /usr/local/lib/python3.10/dist-packages (from hyperopt->dgllife) (0.18.3)\n",
            "Requirement already satisfied: cloudpickle in /usr/local/lib/python3.10/dist-packages (from hyperopt->dgllife) (2.2.1)\n",
            "Requirement already satisfied: py4j in /usr/local/lib/python3.10/dist-packages (from hyperopt->dgllife) (0.10.9.7)\n",
            "Requirement already satisfied: python-dateutil>=2.8.1 in /usr/local/lib/python3.10/dist-packages (from pandas->dgllife) (2.8.2)\n",
            "Requirement already satisfied: pytz>=2020.1 in /usr/local/lib/python3.10/dist-packages (from pandas->dgllife) (2023.3.post1)\n",
            "Installing collected packages: dgllife\n",
            "Successfully installed dgllife-0.3.2\n",
            "Collecting rdkit\n",
            "  Downloading rdkit-2023.9.3-cp310-cp310-manylinux_2_17_x86_64.manylinux2014_x86_64.whl (34.3 MB)\n",
            "\u001b[2K     \u001b[90m━━━━━━━━━━━━━━━━━━━━━━━━━━━━━━━━━━━━━━━━\u001b[0m \u001b[32m34.3/34.3 MB\u001b[0m \u001b[31m24.4 MB/s\u001b[0m eta \u001b[36m0:00:00\u001b[0m\n",
            "\u001b[?25hRequirement already satisfied: numpy in /usr/local/lib/python3.10/dist-packages (from rdkit) (1.23.5)\n",
            "Requirement already satisfied: Pillow in /usr/local/lib/python3.10/dist-packages (from rdkit) (9.4.0)\n",
            "Installing collected packages: rdkit\n",
            "Successfully installed rdkit-2023.9.3\n",
            "Collecting fast_ml\n",
            "  Downloading fast_ml-3.68-py3-none-any.whl (42 kB)\n",
            "\u001b[2K     \u001b[90m━━━━━━━━━━━━━━━━━━━━━━━━━━━━━━━━━━━━━━━━\u001b[0m \u001b[32m42.1/42.1 kB\u001b[0m \u001b[31m844.4 kB/s\u001b[0m eta \u001b[36m0:00:00\u001b[0m\n",
            "\u001b[?25hInstalling collected packages: fast_ml\n",
            "Successfully installed fast_ml-3.68\n"
          ]
        }
      ],
      "source": [
        "# install dgl, rdkit and fast-ml\n",
        "! pip install dgl\n",
        "! pip install dgllife\n",
        "! pip install rdkit\n",
        "! pip install fast_ml"
      ]
    },
    {
      "cell_type": "markdown",
      "source": [
        "### Dataset operations\n",
        "\n",
        "We will fetch the QM9 dataset and use HOMO-LUMO gap as the target for prediction."
      ],
      "metadata": {
        "id": "136hy3mDHYFa"
      }
    },
    {
      "cell_type": "code",
      "source": [
        "# import pandas library\n",
        "import pandas as pd\n",
        "\n",
        "# load the dataframe as CSV from URL.\n",
        "df = pd.read_csv(\"https://deepchemdata.s3-us-west-1.amazonaws.com/datasets/qm9.csv\")\n",
        "\n",
        "# create the dataset with smiles and gap\n",
        "# we will use a 5% of the dataset to save time\n",
        "dataset = df[[\"smiles\",\"gap\"]].sample(frac=0.05)"
      ],
      "metadata": {
        "id": "_9KYkMU1FJ3r"
      },
      "execution_count": 2,
      "outputs": []
    },
    {
      "cell_type": "markdown",
      "source": [
        "As we will use GNN, we need to convert the SMILES to graphs with atom and bond features. The dgl library has streamlined this process.\n",
        "\n",
        "We will use the ``CanonicalAtomFeaturizer`` for atoms features and ``CanonicalBondFeaturizer`` for bonds. More details on the features can be found [here]()"
      ],
      "metadata": {
        "id": "rs3sQHgOoh1O"
      }
    },
    {
      "cell_type": "code",
      "source": [
        "# import from rdkit and dgl-lifesci\n",
        "from rdkit import Chem\n",
        "from dgllife.utils import CanonicalAtomFeaturizer, CanonicalBondFeaturizer, \\\n",
        "mol_to_bigraph\n",
        "\n",
        "# create the atom and bond featurizer object\n",
        "atom_featurizer = CanonicalAtomFeaturizer(atom_data_field=\"hv\")\n",
        "bond_featurizer = CanonicalBondFeaturizer(bond_data_field=\"he\")"
      ],
      "metadata": {
        "id": "M05vMWS6FT0Y",
        "colab": {
          "base_uri": "https://localhost:8080/"
        },
        "outputId": "1b968fe4-ea49-463c-fede-3cc952497a6c"
      },
      "execution_count": 3,
      "outputs": [
        {
          "output_type": "stream",
          "name": "stderr",
          "text": [
            "DGL backend not selected or invalid.  Assuming PyTorch for now.\n"
          ]
        },
        {
          "output_type": "stream",
          "name": "stdout",
          "text": [
            "Setting the default backend to \"pytorch\". You can change it in the ~/.dgl/config.json file or export the DGLBACKEND environment variable.  Valid options are: pytorch, mxnet, tensorflow (all lowercase)\n"
          ]
        }
      ]
    },
    {
      "cell_type": "markdown",
      "source": [
        "Before applying the featurizers to entire dataset, let us look at generating a graph for ethane and applying the features"
      ],
      "metadata": {
        "id": "HAlvvhCHavuo"
      }
    },
    {
      "cell_type": "code",
      "source": [
        "smiles = \"CC\"\n",
        "\n",
        "# mol_to_graph requires the RDKit molecule and featurizers\n",
        "mol = Chem.MolFromSmiles(smiles)\n",
        "graph = mol_to_bigraph(mol, node_featurizer=atom_featurizer,\n",
        "                     edge_featurizer=bond_featurizer)\n",
        "\n",
        "# display the graph object\n",
        "graph"
      ],
      "metadata": {
        "id": "ApI1TTIqavSv",
        "colab": {
          "base_uri": "https://localhost:8080/"
        },
        "outputId": "4aa9ee38-fc16-4e4b-b013-b54f9af86497"
      },
      "execution_count": 4,
      "outputs": [
        {
          "output_type": "execute_result",
          "data": {
            "text/plain": [
              "Graph(num_nodes=2, num_edges=2,\n",
              "      ndata_schemes={'hv': Scheme(shape=(74,), dtype=torch.float32)}\n",
              "      edata_schemes={'he': Scheme(shape=(12,), dtype=torch.float32)})"
            ]
          },
          "metadata": {},
          "execution_count": 4
        }
      ]
    },
    {
      "cell_type": "markdown",
      "source": [
        "Atom features:\n",
        "* One hot encoding of the atom type\n",
        "* One hot encoding of the atom degree\n",
        "* One hot encoding of the number of implicit Hs on the atom\n",
        "* ...\n",
        "\n",
        "More details in [documentation](https://lifesci.dgl.ai/api/utils.mols.html#featurization-for-molecules.)\n",
        "\n",
        "We will create the graphs for all entries in the dataset.\n"
      ],
      "metadata": {
        "id": "WgiEcNPtcYoj"
      }
    },
    {
      "cell_type": "code",
      "source": [
        "# helper function to convert smiles to graph\n",
        "def smiles2graph(smiles):\n",
        "  mol = Chem.MolFromSmiles(smiles)\n",
        "  graph = mol_to_bigraph(mol, node_featurizer=atom_featurizer,\n",
        "                     edge_featurizer=bond_featurizer)\n",
        "  return graph"
      ],
      "metadata": {
        "id": "dyovcsnIdGt1"
      },
      "execution_count": 5,
      "outputs": []
    },
    {
      "cell_type": "code",
      "source": [
        "dataset[\"graph\"] = dataset[\"smiles\"].apply(smiles2graph)"
      ],
      "metadata": {
        "id": "z-PlfX-xdY4W"
      },
      "execution_count": 6,
      "outputs": []
    },
    {
      "cell_type": "markdown",
      "source": [
        "Here, we use random splitting with Fast-ML. Other splitters could also be used."
      ],
      "metadata": {
        "id": "eOhc1WzunuEV"
      }
    },
    {
      "cell_type": "code",
      "source": [
        "# import the function to split into train-valid-test\n",
        "from fast_ml.model_development import train_valid_test_split\n",
        "\n",
        "X_train, y_train, X_valid, y_valid, \\\n",
        "X_test, y_test = train_valid_test_split(dataset[[\"graph\",\"gap\"]],\n",
        "                                        target = \"gap\",\n",
        "                                        train_size=0.8,\n",
        "                                        valid_size=0.1,\n",
        "                                        test_size=0.1)"
      ],
      "metadata": {
        "id": "0Uz09CqxF-2f"
      },
      "execution_count": 7,
      "outputs": []
    },
    {
      "cell_type": "markdown",
      "source": [
        "Looking a the dataset"
      ],
      "metadata": {
        "id": "BHsxYCrFiH4_"
      }
    },
    {
      "cell_type": "code",
      "source": [
        "X_test.head()"
      ],
      "metadata": {
        "id": "QsWIQCuFiLTO",
        "colab": {
          "base_uri": "https://localhost:8080/",
          "height": 206
        },
        "outputId": "68dc1b14-26ee-43b6-9b5e-f496da4181ee"
      },
      "execution_count": 8,
      "outputs": [
        {
          "output_type": "execute_result",
          "data": {
            "text/plain": [
              "                                                    graph\n",
              "50303   Graph(num_nodes=9, num_edges=20,\\n      ndata_...\n",
              "87462   Graph(num_nodes=9, num_edges=22,\\n      ndata_...\n",
              "64871   Graph(num_nodes=9, num_edges=18,\\n      ndata_...\n",
              "107320  Graph(num_nodes=9, num_edges=20,\\n      ndata_...\n",
              "30188   Graph(num_nodes=9, num_edges=20,\\n      ndata_..."
            ],
            "text/html": [
              "\n",
              "  <div id=\"df-31466b2b-fb46-4e6f-9eb7-cd09dc001ad4\" class=\"colab-df-container\">\n",
              "    <div>\n",
              "<style scoped>\n",
              "    .dataframe tbody tr th:only-of-type {\n",
              "        vertical-align: middle;\n",
              "    }\n",
              "\n",
              "    .dataframe tbody tr th {\n",
              "        vertical-align: top;\n",
              "    }\n",
              "\n",
              "    .dataframe thead th {\n",
              "        text-align: right;\n",
              "    }\n",
              "</style>\n",
              "<table border=\"1\" class=\"dataframe\">\n",
              "  <thead>\n",
              "    <tr style=\"text-align: right;\">\n",
              "      <th></th>\n",
              "      <th>graph</th>\n",
              "    </tr>\n",
              "  </thead>\n",
              "  <tbody>\n",
              "    <tr>\n",
              "      <th>50303</th>\n",
              "      <td>Graph(num_nodes=9, num_edges=20,\\n      ndata_...</td>\n",
              "    </tr>\n",
              "    <tr>\n",
              "      <th>87462</th>\n",
              "      <td>Graph(num_nodes=9, num_edges=22,\\n      ndata_...</td>\n",
              "    </tr>\n",
              "    <tr>\n",
              "      <th>64871</th>\n",
              "      <td>Graph(num_nodes=9, num_edges=18,\\n      ndata_...</td>\n",
              "    </tr>\n",
              "    <tr>\n",
              "      <th>107320</th>\n",
              "      <td>Graph(num_nodes=9, num_edges=20,\\n      ndata_...</td>\n",
              "    </tr>\n",
              "    <tr>\n",
              "      <th>30188</th>\n",
              "      <td>Graph(num_nodes=9, num_edges=20,\\n      ndata_...</td>\n",
              "    </tr>\n",
              "  </tbody>\n",
              "</table>\n",
              "</div>\n",
              "    <div class=\"colab-df-buttons\">\n",
              "\n",
              "  <div class=\"colab-df-container\">\n",
              "    <button class=\"colab-df-convert\" onclick=\"convertToInteractive('df-31466b2b-fb46-4e6f-9eb7-cd09dc001ad4')\"\n",
              "            title=\"Convert this dataframe to an interactive table.\"\n",
              "            style=\"display:none;\">\n",
              "\n",
              "  <svg xmlns=\"http://www.w3.org/2000/svg\" height=\"24px\" viewBox=\"0 -960 960 960\">\n",
              "    <path d=\"M120-120v-720h720v720H120Zm60-500h600v-160H180v160Zm220 220h160v-160H400v160Zm0 220h160v-160H400v160ZM180-400h160v-160H180v160Zm440 0h160v-160H620v160ZM180-180h160v-160H180v160Zm440 0h160v-160H620v160Z\"/>\n",
              "  </svg>\n",
              "    </button>\n",
              "\n",
              "  <style>\n",
              "    .colab-df-container {\n",
              "      display:flex;\n",
              "      gap: 12px;\n",
              "    }\n",
              "\n",
              "    .colab-df-convert {\n",
              "      background-color: #E8F0FE;\n",
              "      border: none;\n",
              "      border-radius: 50%;\n",
              "      cursor: pointer;\n",
              "      display: none;\n",
              "      fill: #1967D2;\n",
              "      height: 32px;\n",
              "      padding: 0 0 0 0;\n",
              "      width: 32px;\n",
              "    }\n",
              "\n",
              "    .colab-df-convert:hover {\n",
              "      background-color: #E2EBFA;\n",
              "      box-shadow: 0px 1px 2px rgba(60, 64, 67, 0.3), 0px 1px 3px 1px rgba(60, 64, 67, 0.15);\n",
              "      fill: #174EA6;\n",
              "    }\n",
              "\n",
              "    .colab-df-buttons div {\n",
              "      margin-bottom: 4px;\n",
              "    }\n",
              "\n",
              "    [theme=dark] .colab-df-convert {\n",
              "      background-color: #3B4455;\n",
              "      fill: #D2E3FC;\n",
              "    }\n",
              "\n",
              "    [theme=dark] .colab-df-convert:hover {\n",
              "      background-color: #434B5C;\n",
              "      box-shadow: 0px 1px 3px 1px rgba(0, 0, 0, 0.15);\n",
              "      filter: drop-shadow(0px 1px 2px rgba(0, 0, 0, 0.3));\n",
              "      fill: #FFFFFF;\n",
              "    }\n",
              "  </style>\n",
              "\n",
              "    <script>\n",
              "      const buttonEl =\n",
              "        document.querySelector('#df-31466b2b-fb46-4e6f-9eb7-cd09dc001ad4 button.colab-df-convert');\n",
              "      buttonEl.style.display =\n",
              "        google.colab.kernel.accessAllowed ? 'block' : 'none';\n",
              "\n",
              "      async function convertToInteractive(key) {\n",
              "        const element = document.querySelector('#df-31466b2b-fb46-4e6f-9eb7-cd09dc001ad4');\n",
              "        const dataTable =\n",
              "          await google.colab.kernel.invokeFunction('convertToInteractive',\n",
              "                                                    [key], {});\n",
              "        if (!dataTable) return;\n",
              "\n",
              "        const docLinkHtml = 'Like what you see? Visit the ' +\n",
              "          '<a target=\"_blank\" href=https://colab.research.google.com/notebooks/data_table.ipynb>data table notebook</a>'\n",
              "          + ' to learn more about interactive tables.';\n",
              "        element.innerHTML = '';\n",
              "        dataTable['output_type'] = 'display_data';\n",
              "        await google.colab.output.renderOutput(dataTable, element);\n",
              "        const docLink = document.createElement('div');\n",
              "        docLink.innerHTML = docLinkHtml;\n",
              "        element.appendChild(docLink);\n",
              "      }\n",
              "    </script>\n",
              "  </div>\n",
              "\n",
              "\n",
              "<div id=\"df-960a89a1-8eb3-4c2f-a975-c31d6e08d791\">\n",
              "  <button class=\"colab-df-quickchart\" onclick=\"quickchart('df-960a89a1-8eb3-4c2f-a975-c31d6e08d791')\"\n",
              "            title=\"Suggest charts\"\n",
              "            style=\"display:none;\">\n",
              "\n",
              "<svg xmlns=\"http://www.w3.org/2000/svg\" height=\"24px\"viewBox=\"0 0 24 24\"\n",
              "     width=\"24px\">\n",
              "    <g>\n",
              "        <path d=\"M19 3H5c-1.1 0-2 .9-2 2v14c0 1.1.9 2 2 2h14c1.1 0 2-.9 2-2V5c0-1.1-.9-2-2-2zM9 17H7v-7h2v7zm4 0h-2V7h2v10zm4 0h-2v-4h2v4z\"/>\n",
              "    </g>\n",
              "</svg>\n",
              "  </button>\n",
              "\n",
              "<style>\n",
              "  .colab-df-quickchart {\n",
              "      --bg-color: #E8F0FE;\n",
              "      --fill-color: #1967D2;\n",
              "      --hover-bg-color: #E2EBFA;\n",
              "      --hover-fill-color: #174EA6;\n",
              "      --disabled-fill-color: #AAA;\n",
              "      --disabled-bg-color: #DDD;\n",
              "  }\n",
              "\n",
              "  [theme=dark] .colab-df-quickchart {\n",
              "      --bg-color: #3B4455;\n",
              "      --fill-color: #D2E3FC;\n",
              "      --hover-bg-color: #434B5C;\n",
              "      --hover-fill-color: #FFFFFF;\n",
              "      --disabled-bg-color: #3B4455;\n",
              "      --disabled-fill-color: #666;\n",
              "  }\n",
              "\n",
              "  .colab-df-quickchart {\n",
              "    background-color: var(--bg-color);\n",
              "    border: none;\n",
              "    border-radius: 50%;\n",
              "    cursor: pointer;\n",
              "    display: none;\n",
              "    fill: var(--fill-color);\n",
              "    height: 32px;\n",
              "    padding: 0;\n",
              "    width: 32px;\n",
              "  }\n",
              "\n",
              "  .colab-df-quickchart:hover {\n",
              "    background-color: var(--hover-bg-color);\n",
              "    box-shadow: 0 1px 2px rgba(60, 64, 67, 0.3), 0 1px 3px 1px rgba(60, 64, 67, 0.15);\n",
              "    fill: var(--button-hover-fill-color);\n",
              "  }\n",
              "\n",
              "  .colab-df-quickchart-complete:disabled,\n",
              "  .colab-df-quickchart-complete:disabled:hover {\n",
              "    background-color: var(--disabled-bg-color);\n",
              "    fill: var(--disabled-fill-color);\n",
              "    box-shadow: none;\n",
              "  }\n",
              "\n",
              "  .colab-df-spinner {\n",
              "    border: 2px solid var(--fill-color);\n",
              "    border-color: transparent;\n",
              "    border-bottom-color: var(--fill-color);\n",
              "    animation:\n",
              "      spin 1s steps(1) infinite;\n",
              "  }\n",
              "\n",
              "  @keyframes spin {\n",
              "    0% {\n",
              "      border-color: transparent;\n",
              "      border-bottom-color: var(--fill-color);\n",
              "      border-left-color: var(--fill-color);\n",
              "    }\n",
              "    20% {\n",
              "      border-color: transparent;\n",
              "      border-left-color: var(--fill-color);\n",
              "      border-top-color: var(--fill-color);\n",
              "    }\n",
              "    30% {\n",
              "      border-color: transparent;\n",
              "      border-left-color: var(--fill-color);\n",
              "      border-top-color: var(--fill-color);\n",
              "      border-right-color: var(--fill-color);\n",
              "    }\n",
              "    40% {\n",
              "      border-color: transparent;\n",
              "      border-right-color: var(--fill-color);\n",
              "      border-top-color: var(--fill-color);\n",
              "    }\n",
              "    60% {\n",
              "      border-color: transparent;\n",
              "      border-right-color: var(--fill-color);\n",
              "    }\n",
              "    80% {\n",
              "      border-color: transparent;\n",
              "      border-right-color: var(--fill-color);\n",
              "      border-bottom-color: var(--fill-color);\n",
              "    }\n",
              "    90% {\n",
              "      border-color: transparent;\n",
              "      border-bottom-color: var(--fill-color);\n",
              "    }\n",
              "  }\n",
              "</style>\n",
              "\n",
              "  <script>\n",
              "    async function quickchart(key) {\n",
              "      const quickchartButtonEl =\n",
              "        document.querySelector('#' + key + ' button');\n",
              "      quickchartButtonEl.disabled = true;  // To prevent multiple clicks.\n",
              "      quickchartButtonEl.classList.add('colab-df-spinner');\n",
              "      try {\n",
              "        const charts = await google.colab.kernel.invokeFunction(\n",
              "            'suggestCharts', [key], {});\n",
              "      } catch (error) {\n",
              "        console.error('Error during call to suggestCharts:', error);\n",
              "      }\n",
              "      quickchartButtonEl.classList.remove('colab-df-spinner');\n",
              "      quickchartButtonEl.classList.add('colab-df-quickchart-complete');\n",
              "    }\n",
              "    (() => {\n",
              "      let quickchartButtonEl =\n",
              "        document.querySelector('#df-960a89a1-8eb3-4c2f-a975-c31d6e08d791 button');\n",
              "      quickchartButtonEl.style.display =\n",
              "        google.colab.kernel.accessAllowed ? 'block' : 'none';\n",
              "    })();\n",
              "  </script>\n",
              "</div>\n",
              "\n",
              "    </div>\n",
              "  </div>\n"
            ]
          },
          "metadata": {},
          "execution_count": 8
        }
      ]
    },
    {
      "cell_type": "markdown",
      "source": [
        "### Dataloader\n",
        "\n",
        "The ``DataLoader`` helps in creating batches, shuffling data and feeding the data into to model during training. The dataloader requires the dataset in the form (X,y) where X is the graph and y is the target.\n",
        "\n",
        "The dataloader code below does this transformation. The ``collate_data`` function is need for batching the (X,y) entries before feeding the batches into the model."
      ],
      "metadata": {
        "id": "fu7uSLoJKfjw"
      }
    },
    {
      "cell_type": "code",
      "source": [
        "import dgl\n",
        "\n",
        "def collate_data(data):\n",
        "  # our data is in the form of list of (X,y)\n",
        "  # the map function thus maps accordingly\n",
        "  graphs, y = map(list, zip(*data))\n",
        "\n",
        "  # for creating a batch of graph, we use the batch function\n",
        "  batch_graph = dgl.batch(graphs)\n",
        "\n",
        "  # we need to stack the ys for different entries in the batch\n",
        "  y = torch.stack(y, dim=0)\n",
        "\n",
        "  return batch_graph, y"
      ],
      "metadata": {
        "id": "wNAZGrMuY8yT"
      },
      "execution_count": 9,
      "outputs": []
    },
    {
      "cell_type": "code",
      "source": [
        "# import dataloader\n",
        "import torch\n",
        "from torch.utils.data import DataLoader\n",
        "\n",
        "# create the dataloader for train dataset\n",
        "# dataset should be of form (X,y) according to the collate function\n",
        "# the ys should also be converted to tensors\n",
        "train_dataloader = DataLoader(\n",
        "    dataset=list(zip(X_train[\"graph\"].values.tolist(),\n",
        "                     torch.tensor(y_train.tolist(), dtype=torch.float32))),\n",
        "    batch_size=64, collate_fn=collate_data)"
      ],
      "metadata": {
        "id": "QG1Ie35wJsiE"
      },
      "execution_count": 10,
      "outputs": []
    },
    {
      "cell_type": "markdown",
      "source": [
        "We can look at the first entry of the train_dataloader with -"
      ],
      "metadata": {
        "id": "7b73yfdorVEd"
      }
    },
    {
      "cell_type": "code",
      "source": [
        "train_dataloader.dataset[0]"
      ],
      "metadata": {
        "id": "1gxYN8NYL8P-",
        "colab": {
          "base_uri": "https://localhost:8080/"
        },
        "outputId": "63f4c04a-6d6e-40e5-d789-45ce39cbf0b2"
      },
      "execution_count": 11,
      "outputs": [
        {
          "output_type": "execute_result",
          "data": {
            "text/plain": [
              "(Graph(num_nodes=9, num_edges=18,\n",
              "       ndata_schemes={'hv': Scheme(shape=(74,), dtype=torch.float32)}\n",
              "       edata_schemes={'he': Scheme(shape=(12,), dtype=torch.float32)}),\n",
              " tensor(0.2149))"
            ]
          },
          "metadata": {},
          "execution_count": 11
        }
      ]
    },
    {
      "cell_type": "markdown",
      "source": [
        "Repeat the same for the valid_dataset and test_dataset"
      ],
      "metadata": {
        "id": "9kv-d9Y0ru8S"
      }
    },
    {
      "cell_type": "code",
      "source": [
        "valid_dataloader = DataLoader(\n",
        "    dataset=list(zip(X_valid[\"graph\"].values.tolist(),\n",
        "                     torch.tensor(y_valid.tolist(), dtype=torch.float32))),\n",
        "    batch_size=64, collate_fn=collate_data)\n",
        "\n",
        "test_dataloader = DataLoader(\n",
        "    dataset=list(zip(X_test[\"graph\"].values.tolist(),\n",
        "                     torch.tensor(y_test.tolist(), dtype=torch.float32))),\n",
        "    batch_size=64, collate_fn=collate_data)"
      ],
      "metadata": {
        "id": "CfmWl76dKpl0"
      },
      "execution_count": 12,
      "outputs": []
    },
    {
      "cell_type": "markdown",
      "source": [
        "### Model, loss and optimizer\n",
        "\n",
        "Here, we will use a the MPNN model from dgl-lifesci package. List of available models can be found [here](https://lifesci.dgl.ai/api/model.zoo.html)"
      ],
      "metadata": {
        "id": "-fotYO2ZHhvi"
      }
    },
    {
      "cell_type": "code",
      "source": [
        "# import MLP model from dgl-lifesci\n",
        "from dgllife.model.model_zoo.mpnn_predictor import MPNNPredictor\n",
        "\n",
        "# the atom feature length is 74 and bond is 12\n",
        "model = MPNNPredictor(node_in_feats = 74,\n",
        "                      edge_in_feats = 12,\n",
        "                      node_out_feats = 64,\n",
        "                      edge_hidden_feats = 128,\n",
        "                      n_tasks = 1,\n",
        "                      num_step_message_passing = 6,\n",
        "                      num_step_set2set = 6,\n",
        "                      num_layer_set2set = 3)\n",
        "model"
      ],
      "metadata": {
        "id": "AhGhxXPdHQR5",
        "colab": {
          "base_uri": "https://localhost:8080/"
        },
        "outputId": "19e51907-49da-491c-b77d-fe837ff9a180"
      },
      "execution_count": 13,
      "outputs": [
        {
          "output_type": "execute_result",
          "data": {
            "text/plain": [
              "MPNNPredictor(\n",
              "  (gnn): MPNNGNN(\n",
              "    (project_node_feats): Sequential(\n",
              "      (0): Linear(in_features=74, out_features=64, bias=True)\n",
              "      (1): ReLU()\n",
              "    )\n",
              "    (gnn_layer): NNConv(\n",
              "      (edge_func): Sequential(\n",
              "        (0): Linear(in_features=12, out_features=128, bias=True)\n",
              "        (1): ReLU()\n",
              "        (2): Linear(in_features=128, out_features=4096, bias=True)\n",
              "      )\n",
              "    )\n",
              "    (gru): GRU(64, 64)\n",
              "  )\n",
              "  (readout): Set2Set(\n",
              "    n_iters=6\n",
              "    (lstm): LSTM(128, 64, num_layers=3)\n",
              "  )\n",
              "  (predict): Sequential(\n",
              "    (0): Linear(in_features=128, out_features=64, bias=True)\n",
              "    (1): ReLU()\n",
              "    (2): Linear(in_features=64, out_features=1, bias=True)\n",
              "  )\n",
              ")"
            ]
          },
          "metadata": {},
          "execution_count": 13
        }
      ]
    },
    {
      "cell_type": "markdown",
      "source": [
        "The ``MPNNPredictor`` contains a ``gnn``, ``readout`` and ``predict`` layers."
      ],
      "metadata": {
        "id": "iV_5vxbS4wz6"
      }
    },
    {
      "cell_type": "code",
      "source": [
        "# loss function for regresssion is usually mean squared error\n",
        "import torch\n",
        "\n",
        "loss_func = torch.nn.MSELoss(reduce=None)"
      ],
      "metadata": {
        "id": "rtzhleqWJHUg"
      },
      "execution_count": 14,
      "outputs": []
    },
    {
      "cell_type": "markdown",
      "source": [
        "We will use the Adam optimizer for training."
      ],
      "metadata": {
        "id": "V6EGwrx15XME"
      }
    },
    {
      "cell_type": "code",
      "source": [
        "# adam optimier\n",
        "optimizer = torch.optim.Adam(model.parameters(), lr=0.001)"
      ],
      "metadata": {
        "id": "KCe6e4l4Jjft"
      },
      "execution_count": 15,
      "outputs": []
    },
    {
      "cell_type": "markdown",
      "source": [
        "### Model training and validation\n",
        "\n",
        "We follow the steps in the overview"
      ],
      "metadata": {
        "id": "Ewu1-wIYMPeQ"
      }
    },
    {
      "cell_type": "code",
      "source": [
        "epochs = 5\n",
        "\n",
        "# loop over epochs\n",
        "for epoch in range(epochs):\n",
        "  print(\"\\nStarting Epoch\", epoch+1)\n",
        "\n",
        "  # set the model to train so the parameters can be updated\n",
        "  model.train()\n",
        "  # loop over training batches\n",
        "\n",
        "  train_loss = []\n",
        "  for batch in train_dataloader:\n",
        "\n",
        "    # Do a forward pass\n",
        "    batch_graph, target = batch\n",
        "\n",
        "    # look at the forward function for input\n",
        "    # this model needs graph, node_feats and edge_feats\n",
        "    node_feats = batch_graph.ndata[\"hv\"]\n",
        "    edge_feats = batch_graph.edata[\"he\"]\n",
        "    predictions = model(batch_graph, node_feats, edge_feats)\n",
        "\n",
        "    # Compute loss\n",
        "    loss = (loss_func(predictions, target)).mean()\n",
        "    optimizer.zero_grad()\n",
        "\n",
        "    # Do back propogation and update gradient\n",
        "    loss.backward()\n",
        "    optimizer.step()\n",
        "\n",
        "    # save loss to compute average loss\n",
        "    train_loss.append(loss)\n",
        "\n",
        "  print(\"Training loss\", torch.tensor(train_loss).mean().item())\n",
        "\n",
        "\n",
        "\n",
        "  # set the model to eval so the parameters are not updated\n",
        "  model.eval()\n",
        "  valid_loss = []\n",
        "\n",
        "  # loop over validation batches\n",
        "  with torch.no_grad():\n",
        "    for batch in valid_dataloader:\n",
        "\n",
        "      # Do a forward pass\n",
        "      batch_graph, target = batch\n",
        "      node_feats = batch_graph.ndata[\"hv\"]\n",
        "      edge_feats = batch_graph.edata[\"he\"]\n",
        "      predictions = model(batch_graph, node_feats, edge_feats)\n",
        "\n",
        "      # Compute loss and gradient\n",
        "      loss = (loss_func(predictions, target)).mean()\n",
        "\n",
        "      # save loss to compute average loss\n",
        "      valid_loss.append(loss)\n",
        "\n",
        "  print(\"Validation loss \", torch.tensor(valid_loss).mean().item())\n"
      ],
      "metadata": {
        "id": "is7r-fWuKYMk",
        "colab": {
          "base_uri": "https://localhost:8080/"
        },
        "outputId": "5fd17244-127a-4764-cab7-2ac4ca6fd51a"
      },
      "execution_count": 16,
      "outputs": [
        {
          "output_type": "stream",
          "name": "stdout",
          "text": [
            "\n",
            "Starting Epoch 1\n",
            "Training loss 0.004100590478628874\n",
            "Validation loss  0.0023228006903082132\n",
            "\n",
            "Starting Epoch 2\n",
            "Training loss 0.00227018422447145\n",
            "Validation loss  0.0022429139353334904\n",
            "\n",
            "Starting Epoch 3\n",
            "Training loss 0.002283029956743121\n",
            "Validation loss  0.002242504386231303\n",
            "\n",
            "Starting Epoch 4\n",
            "Training loss 0.00228515756316483\n",
            "Validation loss  0.002244254807010293\n",
            "\n",
            "Starting Epoch 5\n",
            "Training loss 0.0022777284029871225\n",
            "Validation loss  0.0022511593997478485\n"
          ]
        }
      ]
    },
    {
      "cell_type": "markdown",
      "source": [
        "### Testing the performance\n",
        "\n",
        "We can get a random sample from the test dataset and look at the predicted and true value"
      ],
      "metadata": {
        "id": "1vMxNdoN7GyW"
      }
    },
    {
      "cell_type": "code",
      "source": [
        "# getting a sample with idx\n",
        "idx = 100\n",
        "graph_sample = X_test[\"graph\"].iloc[idx]\n",
        "y_sample = y_test.iloc[idx]\n",
        "\n",
        "print(\"True value is \",y_sample)"
      ],
      "metadata": {
        "id": "VLPTF8QYN-tI",
        "colab": {
          "base_uri": "https://localhost:8080/"
        },
        "outputId": "1cdbd99e-0a5b-46f3-a183-d1654082bf7c"
      },
      "execution_count": 17,
      "outputs": [
        {
          "output_type": "stream",
          "name": "stdout",
          "text": [
            "True value is  0.2883\n"
          ]
        }
      ]
    },
    {
      "cell_type": "code",
      "source": [
        "# get the prediction\n",
        "model.eval()\n",
        "node_feats = graph_sample.ndata[\"hv\"]\n",
        "edge_feats = graph_sample.edata[\"he\"]\n",
        "model(graph_sample, node_feats, edge_feats)"
      ],
      "metadata": {
        "id": "_rwTE1NDYW8S",
        "colab": {
          "base_uri": "https://localhost:8080/"
        },
        "outputId": "2481ca4e-b862-4399-ac74-168a90fad4ad"
      },
      "execution_count": 18,
      "outputs": [
        {
          "output_type": "execute_result",
          "data": {
            "text/plain": [
              "tensor([[0.2539]], grad_fn=<AddmmBackward0>)"
            ]
          },
          "metadata": {},
          "execution_count": 18
        }
      ]
    },
    {
      "cell_type": "markdown",
      "source": [
        "Let us get prediction over the entire test dataset"
      ],
      "metadata": {
        "id": "WwKcAureNtXm"
      }
    },
    {
      "cell_type": "code",
      "source": [
        "predicted_values = []\n",
        "true_values = y_test.to_list()\n",
        "\n",
        "model.eval()\n",
        "for graph_sample in X_test[\"graph\"].tolist():\n",
        "  node_feats = graph_sample.ndata[\"hv\"]\n",
        "  edge_feats = graph_sample.edata[\"he\"]\n",
        "  prediction = model(graph_sample, node_feats, edge_feats)\n",
        "  predicted_values.append(prediction.item())"
      ],
      "metadata": {
        "id": "YiRQBhA-hHEp"
      },
      "execution_count": 19,
      "outputs": []
    },
    {
      "cell_type": "markdown",
      "source": [
        "We can create a scatter plot to look at the correlation"
      ],
      "metadata": {
        "id": "cseKRc-aK1v5"
      }
    },
    {
      "cell_type": "code",
      "source": [
        "import matplotlib.pyplot as plt\n",
        "\n",
        "plt.scatter(true_values, predicted_values)"
      ],
      "metadata": {
        "id": "DpUBNWLKK2r5",
        "colab": {
          "base_uri": "https://localhost:8080/",
          "height": 448
        },
        "outputId": "8e811e54-96e3-4895-dadd-52c9d5a1e5a5"
      },
      "execution_count": 20,
      "outputs": [
        {
          "output_type": "execute_result",
          "data": {
            "text/plain": [
              "<matplotlib.collections.PathCollection at 0x7ecbfe2faa40>"
            ]
          },
          "metadata": {},
          "execution_count": 20
        },
        {
          "output_type": "display_data",
          "data": {
            "text/plain": [
              "<Figure size 640x480 with 1 Axes>"
            ],
            "image/png": "[encoded data removed]"
          },
          "metadata": {}
        }
      ]
    },
    {
      "cell_type": "markdown",
      "source": [
        "As we noted before, the model predictions are not good; predicts nearly constant value. We can also arrive at the conclusion from the R<sup>2</sup> score"
      ],
      "metadata": {
        "id": "zkc-bg-iOFWr"
      }
    },
    {
      "cell_type": "code",
      "source": [
        "from sklearn.metrics import mean_absolute_error, r2_score\n",
        "\n",
        "print(\"R2 score \", r2_score(true_values,predicted_values))\n",
        "print(\"MAE \", mean_absolute_error(true_values,predicted_values))"
      ],
      "metadata": {
        "id": "E_VCh7Qti15_",
        "colab": {
          "base_uri": "https://localhost:8080/"
        },
        "outputId": "41b52137-a9f6-4b55-f9e1-6a71708a0758"
      },
      "execution_count": 21,
      "outputs": [
        {
          "output_type": "stream",
          "name": "stdout",
          "text": [
            "R2 score  0.0077337846176001035\n",
            "MAE  0.037847806370009236\n"
          ]
        }
      ]
    },
    {
      "cell_type": "markdown",
      "source": [
        "The implementation of the MPNN model on QM9 is reported in [this](https://arxiv.org/abs/1704.01212) article."
      ],
      "metadata": {
        "id": "8TZlsnJTnxdU"
      }
    }
  ]
}